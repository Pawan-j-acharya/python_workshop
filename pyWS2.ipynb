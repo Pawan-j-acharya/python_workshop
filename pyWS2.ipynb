{
  "nbformat": 4,
  "nbformat_minor": 0,
  "metadata": {
    "colab": {
      "name": "pyWS2.ipynb",
      "provenance": [],
      "authorship_tag": "ABX9TyPV/IUbyCu/6Tb9f+15LwvZ",
      "include_colab_link": true
    },
    "kernelspec": {
      "name": "python3",
      "display_name": "Python 3"
    }
  },
  "cells": [
    {
      "cell_type": "markdown",
      "metadata": {
        "id": "view-in-github",
        "colab_type": "text"
      },
      "source": [
        "<a href=\"https://colab.research.google.com/github/Pawan-j-acharya/python_workshop/blob/main/pyWS2.ipynb\" target=\"_parent\"><img src=\"https://colab.research.google.com/assets/colab-badge.svg\" alt=\"Open In Colab\"/></a>"
      ]
    },
    {
      "cell_type": "markdown",
      "metadata": {
        "id": "jIPm7FF92ukL"
      },
      "source": [
        "#set"
      ]
    },
    {
      "cell_type": "code",
      "metadata": {
        "colab": {
          "base_uri": "https://localhost:8080/"
        },
        "id": "QgUESlrLwpRa",
        "outputId": "01a45265-ff51-4e75-ea93-dc78ee18fb93"
      },
      "source": [
        "numbers={1,2,3,4}\r\n",
        "print(numbers)\r\n"
      ],
      "execution_count": 4,
      "outputs": [
        {
          "output_type": "stream",
          "text": [
            "{1, 2, 3, 4}\n"
          ],
          "name": "stdout"
        }
      ]
    },
    {
      "cell_type": "code",
      "metadata": {
        "colab": {
          "base_uri": "https://localhost:8080/"
        },
        "id": "MOadhF7nziwz",
        "outputId": "13067221-4017-4479-c65c-3b787aff0914"
      },
      "source": [
        "a=set((\"a\",\"b\",\"c\",\"d\"))\r\n",
        "print(a)\r\n",
        "print(len(a))\r\n",
        "a.add(\"mech\")\r\n",
        "print(a)\r\n",
        "a.add(\"b\")\r\n",
        "print(a)\r\n",
        "print(len(a))\r\n",
        "a.remove('b')\r\n",
        "print(a)\r\n",
        "print(len(a))\r\n",
        "deleted=a.pop()\r\n",
        "print(deleted)\r\n",
        "print(a)\r\n",
        "a.clear()\r\n",
        "print(len(a))"
      ],
      "execution_count": 23,
      "outputs": [
        {
          "output_type": "stream",
          "text": [
            "{'d', 'a', 'c', 'b'}\n",
            "4\n",
            "{'a', 'c', 'b', 'd', 'mech'}\n",
            "{'a', 'c', 'b', 'd', 'mech'}\n",
            "5\n",
            "{'a', 'c', 'd', 'mech'}\n",
            "4\n",
            "a\n",
            "{'c', 'd', 'mech'}\n",
            "0\n"
          ],
          "name": "stdout"
        }
      ]
    },
    {
      "cell_type": "code",
      "metadata": {
        "colab": {
          "base_uri": "https://localhost:8080/"
        },
        "id": "f6x6ORzg2rDT",
        "outputId": "d8fff43d-5621-4f38-f35f-c1023b1c51c9"
      },
      "source": [
        "set1={\"a\",\"b\",\"c\"}\r\n",
        "set2={\"1\",\"2\",\"3\"}\r\n",
        "set3=set1.union(set2)\r\n",
        "print(set3)"
      ],
      "execution_count": 26,
      "outputs": [
        {
          "output_type": "stream",
          "text": [
            "{'a', '2', '1', 'c', '3', 'b'}\n"
          ],
          "name": "stdout"
        }
      ]
    },
    {
      "cell_type": "code",
      "metadata": {
        "colab": {
          "base_uri": "https://localhost:8080/"
        },
        "id": "BNY34fpp4EA8",
        "outputId": "0cca7a9e-cc8a-40ca-be43-87f5c446aeea"
      },
      "source": [
        "thislist={\"apple\",\"bannana\",\"cherry\"}\r\n",
        "tropical={\"pinneapple\",\"mango\",\"papaya\"}\r\n",
        "thislist.update(tropical)\r\n",
        "print(thislist)"
      ],
      "execution_count": 29,
      "outputs": [
        {
          "output_type": "stream",
          "text": [
            "{'mango', 'papaya', 'pinneapple', 'bannana', 'apple', 'cherry'}\n"
          ],
          "name": "stdout"
        }
      ]
    },
    {
      "cell_type": "code",
      "metadata": {
        "colab": {
          "base_uri": "https://localhost:8080/"
        },
        "id": "y635kW7e5Y0F",
        "outputId": "02ec8a82-52a4-4f7c-e623-06ca1fa9dc8e"
      },
      "source": [
        "a=[1,2,3,4,1,2]\r\n",
        "s=set(a)\r\n",
        "print(s)"
      ],
      "execution_count": 31,
      "outputs": [
        {
          "output_type": "stream",
          "text": [
            "{1, 2, 3, 4}\n"
          ],
          "name": "stdout"
        }
      ]
    },
    {
      "cell_type": "code",
      "metadata": {
        "colab": {
          "base_uri": "https://localhost:8080/"
        },
        "id": "PRz3uDk72Ygb",
        "outputId": "a6cf856d-d7fb-432a-c75d-a9f5a23c2496"
      },
      "source": [
        "thisset={\"apple\",\"bannana\",\"cherry\"}\r\n",
        "thisset.add(\"mango\")\r\n",
        "print(thisset)"
      ],
      "execution_count": 32,
      "outputs": [
        {
          "output_type": "stream",
          "text": [
            "{'apple', 'cherry', 'mango', 'bannana'}\n"
          ],
          "name": "stdout"
        }
      ]
    },
    {
      "cell_type": "code",
      "metadata": {
        "colab": {
          "base_uri": "https://localhost:8080/"
        },
        "id": "YRAcVz9_6mMD",
        "outputId": "a13c1652-8ed9-4352-b33c-64fa5dfb5c92"
      },
      "source": [
        "fruits={\"apple\",\"bannana\",\"cherry\"}\r\n",
        "more_fruits=[\"orange\",\"mango\",\"grapes\"]\r\n",
        "fruits=fruits.union(more_fruits)\r\n",
        "print(fruits)\r\n",
        "fruits.remove(\"bannana\")\r\n",
        "print(fruits)\r\n",
        "fruits.discard(\"cherry\")\r\n",
        "print(fruits)\r\n"
      ],
      "execution_count": 35,
      "outputs": [
        {
          "output_type": "stream",
          "text": [
            "{'orange', 'bannana', 'grapes', 'mango', 'apple', 'cherry'}\n",
            "{'orange', 'grapes', 'mango', 'apple', 'cherry'}\n",
            "{'orange', 'grapes', 'mango', 'apple'}\n"
          ],
          "name": "stdout"
        }
      ]
    },
    {
      "cell_type": "code",
      "metadata": {
        "colab": {
          "base_uri": "https://localhost:8080/"
        },
        "id": "Iz1QZ-ik8BWa",
        "outputId": "3783ae8a-a067-40a4-b168-856807273269"
      },
      "source": [
        "a=set((1,2,1,2,3))\r\n",
        "print(len(a))"
      ],
      "execution_count": 41,
      "outputs": [
        {
          "output_type": "stream",
          "text": [
            "3\n"
          ],
          "name": "stdout"
        }
      ]
    },
    {
      "cell_type": "code",
      "metadata": {
        "colab": {
          "base_uri": "https://localhost:8080/",
          "height": 389
        },
        "id": "gzBuGfbD9oD7",
        "outputId": "dc4df7a5-fd1c-4db2-a33e-78135fd115be"
      },
      "source": [
        "today={\r\n",
        "    \"day\":\"thursday\",\r\n",
        "    \"date\":\"7/01/2021\",\r\n",
        "    \"month\":\"january\"\r\n",
        "}\r\n",
        "print(today)\r\n",
        "print(len(today))\r\n",
        "print(today[\"day\"])\r\n",
        "print(today[\"date\"])\r\n",
        "print(today[\"month\"])\r\n",
        "print(today.keys())\r\n",
        "print(today.values())\r\n",
        "today[\"date\"]=\"8/01/2021\"  #change value of a disctionary\r\n",
        "print(today[\"date\"])\r\n",
        "today[\"color\"]=\"red\"       #adding key to a dictionary\r\n",
        "print(today)\r\n",
        "today.pop(\"color\")\r\n",
        "print(today)       \r\n",
        "print(today.get[\"date\"])        "
      ],
      "execution_count": 74,
      "outputs": [
        {
          "output_type": "stream",
          "text": [
            "{'day': 'thursday', 'date': '7/01/2021', 'month': 'january'}\n",
            "3\n",
            "thursday\n",
            "7/01/2021\n",
            "january\n",
            "dict_keys(['day', 'date', 'month'])\n",
            "dict_values(['thursday', '7/01/2021', 'january'])\n",
            "8/01/2021\n",
            "{'day': 'thursday', 'date': '8/01/2021', 'month': 'january', 'color': 'red'}\n",
            "{'day': 'thursday', 'date': '8/01/2021', 'month': 'january'}\n"
          ],
          "name": "stdout"
        },
        {
          "output_type": "error",
          "ename": "TypeError",
          "evalue": "ignored",
          "traceback": [
            "\u001b[0;31m---------------------------------------------------------------------------\u001b[0m",
            "\u001b[0;31mTypeError\u001b[0m                                 Traceback (most recent call last)",
            "\u001b[0;32m<ipython-input-74-26e65e98f9e7>\u001b[0m in \u001b[0;36m<module>\u001b[0;34m()\u001b[0m\n\u001b[1;32m     17\u001b[0m \u001b[0mtoday\u001b[0m\u001b[0;34m.\u001b[0m\u001b[0mpop\u001b[0m\u001b[0;34m(\u001b[0m\u001b[0;34m\"color\"\u001b[0m\u001b[0;34m)\u001b[0m\u001b[0;34m\u001b[0m\u001b[0;34m\u001b[0m\u001b[0m\n\u001b[1;32m     18\u001b[0m \u001b[0mprint\u001b[0m\u001b[0;34m(\u001b[0m\u001b[0mtoday\u001b[0m\u001b[0;34m)\u001b[0m\u001b[0;34m\u001b[0m\u001b[0;34m\u001b[0m\u001b[0m\n\u001b[0;32m---> 19\u001b[0;31m \u001b[0mprint\u001b[0m\u001b[0;34m(\u001b[0m\u001b[0mtoday\u001b[0m\u001b[0;34m.\u001b[0m\u001b[0mget\u001b[0m\u001b[0;34m[\u001b[0m\u001b[0;34m\"date\"\u001b[0m\u001b[0;34m]\u001b[0m\u001b[0;34m)\u001b[0m\u001b[0;34m\u001b[0m\u001b[0;34m\u001b[0m\u001b[0m\n\u001b[0m",
            "\u001b[0;31mTypeError\u001b[0m: 'builtin_function_or_method' object is not subscriptable"
          ]
        }
      ]
    },
    {
      "cell_type": "code",
      "metadata": {
        "colab": {
          "base_uri": "https://localhost:8080/"
        },
        "id": "GSP07DrI-lpr",
        "outputId": "6587eeef-0ea3-4b29-b392-fe6809b546cd"
      },
      "source": [
        "help(list)"
      ],
      "execution_count": 49,
      "outputs": [
        {
          "output_type": "stream",
          "text": [
            "Help on class list in module builtins:\n",
            "\n",
            "class list(object)\n",
            " |  list() -> new empty list\n",
            " |  list(iterable) -> new list initialized from iterable's items\n",
            " |  \n",
            " |  Methods defined here:\n",
            " |  \n",
            " |  __add__(self, value, /)\n",
            " |      Return self+value.\n",
            " |  \n",
            " |  __contains__(self, key, /)\n",
            " |      Return key in self.\n",
            " |  \n",
            " |  __delitem__(self, key, /)\n",
            " |      Delete self[key].\n",
            " |  \n",
            " |  __eq__(self, value, /)\n",
            " |      Return self==value.\n",
            " |  \n",
            " |  __ge__(self, value, /)\n",
            " |      Return self>=value.\n",
            " |  \n",
            " |  __getattribute__(self, name, /)\n",
            " |      Return getattr(self, name).\n",
            " |  \n",
            " |  __getitem__(...)\n",
            " |      x.__getitem__(y) <==> x[y]\n",
            " |  \n",
            " |  __gt__(self, value, /)\n",
            " |      Return self>value.\n",
            " |  \n",
            " |  __iadd__(self, value, /)\n",
            " |      Implement self+=value.\n",
            " |  \n",
            " |  __imul__(self, value, /)\n",
            " |      Implement self*=value.\n",
            " |  \n",
            " |  __init__(self, /, *args, **kwargs)\n",
            " |      Initialize self.  See help(type(self)) for accurate signature.\n",
            " |  \n",
            " |  __iter__(self, /)\n",
            " |      Implement iter(self).\n",
            " |  \n",
            " |  __le__(self, value, /)\n",
            " |      Return self<=value.\n",
            " |  \n",
            " |  __len__(self, /)\n",
            " |      Return len(self).\n",
            " |  \n",
            " |  __lt__(self, value, /)\n",
            " |      Return self<value.\n",
            " |  \n",
            " |  __mul__(self, value, /)\n",
            " |      Return self*value.\n",
            " |  \n",
            " |  __ne__(self, value, /)\n",
            " |      Return self!=value.\n",
            " |  \n",
            " |  __new__(*args, **kwargs) from builtins.type\n",
            " |      Create and return a new object.  See help(type) for accurate signature.\n",
            " |  \n",
            " |  __repr__(self, /)\n",
            " |      Return repr(self).\n",
            " |  \n",
            " |  __reversed__(...)\n",
            " |      L.__reversed__() -- return a reverse iterator over the list\n",
            " |  \n",
            " |  __rmul__(self, value, /)\n",
            " |      Return value*self.\n",
            " |  \n",
            " |  __setitem__(self, key, value, /)\n",
            " |      Set self[key] to value.\n",
            " |  \n",
            " |  __sizeof__(...)\n",
            " |      L.__sizeof__() -- size of L in memory, in bytes\n",
            " |  \n",
            " |  append(...)\n",
            " |      L.append(object) -> None -- append object to end\n",
            " |  \n",
            " |  clear(...)\n",
            " |      L.clear() -> None -- remove all items from L\n",
            " |  \n",
            " |  copy(...)\n",
            " |      L.copy() -> list -- a shallow copy of L\n",
            " |  \n",
            " |  count(...)\n",
            " |      L.count(value) -> integer -- return number of occurrences of value\n",
            " |  \n",
            " |  extend(...)\n",
            " |      L.extend(iterable) -> None -- extend list by appending elements from the iterable\n",
            " |  \n",
            " |  index(...)\n",
            " |      L.index(value, [start, [stop]]) -> integer -- return first index of value.\n",
            " |      Raises ValueError if the value is not present.\n",
            " |  \n",
            " |  insert(...)\n",
            " |      L.insert(index, object) -- insert object before index\n",
            " |  \n",
            " |  pop(...)\n",
            " |      L.pop([index]) -> item -- remove and return item at index (default last).\n",
            " |      Raises IndexError if list is empty or index is out of range.\n",
            " |  \n",
            " |  remove(...)\n",
            " |      L.remove(value) -> None -- remove first occurrence of value.\n",
            " |      Raises ValueError if the value is not present.\n",
            " |  \n",
            " |  reverse(...)\n",
            " |      L.reverse() -- reverse *IN PLACE*\n",
            " |  \n",
            " |  sort(...)\n",
            " |      L.sort(key=None, reverse=False) -> None -- stable sort *IN PLACE*\n",
            " |  \n",
            " |  ----------------------------------------------------------------------\n",
            " |  Data and other attributes defined here:\n",
            " |  \n",
            " |  __hash__ = None\n",
            "\n"
          ],
          "name": "stdout"
        }
      ]
    },
    {
      "cell_type": "code",
      "metadata": {
        "id": "7eRgK6Eg--VD"
      },
      "source": [
        ""
      ],
      "execution_count": 54,
      "outputs": []
    },
    {
      "cell_type": "markdown",
      "metadata": {
        "id": "mEzJIPM9YxDA"
      },
      "source": [
        "#python condition and if statements"
      ]
    },
    {
      "cell_type": "code",
      "metadata": {
        "colab": {
          "base_uri": "https://localhost:8080/"
        },
        "id": "lhYhRiNJY8Vf",
        "outputId": "e0d4cd96-f005-4108-81ee-8c603aed72b3"
      },
      "source": [
        "a,ba,b,c=int(input(\"enter the value of a:\")),int(input(\"enter the value of b:\")),int(input(\"enter the value of c:\"))\r\n",
        "if b>a:\r\n",
        "  print(\"b is greater than a\")\r\n",
        "elif a==b:\r\n",
        "  print(\"a is equal to b\")\r\n",
        "else:\r\n",
        "  print(\"a is grater than b\")"
      ],
      "execution_count": 89,
      "outputs": [
        {
          "output_type": "stream",
          "text": [
            "enter the value of a:100\n",
            "enter the value of b:100\n",
            "a is equal to b\n"
          ],
          "name": "stdout"
        }
      ]
    },
    {
      "cell_type": "code",
      "metadata": {
        "colab": {
          "base_uri": "https://localhost:8080/"
        },
        "id": "ymFns-wjbtWA",
        "outputId": "ec18b703-5a38-4f1d-9718-9ba2ae69062e"
      },
      "source": [
        "a,b,c=int(input(\"enter the value of a:\")),int(input(\"enter the value of b:\")),int(input(\"enter the value of c:\"))\r\n",
        "if a>b:\r\n",
        "  if a>c:\r\n",
        "    print(\"a is greater \")\r\n",
        "  else:\r\n",
        "    print(\"c is greater\")\r\n",
        "elif b>c:\r\n",
        "  print(\"b is greater\")\r\n",
        "else:\r\n",
        "  print(\"c is greater\")\r\n"
      ],
      "execution_count": 105,
      "outputs": [
        {
          "output_type": "stream",
          "text": [
            "enter the value of a:2\n",
            "enter the value of b:3\n",
            "enter the value of c:4\n",
            "c is greater\n"
          ],
          "name": "stdout"
        }
      ]
    },
    {
      "cell_type": "markdown",
      "metadata": {
        "id": "qePxyk7QlbpI"
      },
      "source": [
        "#while"
      ]
    },
    {
      "cell_type": "code",
      "metadata": {
        "colab": {
          "base_uri": "https://localhost:8080/"
        },
        "id": "22BpmlXNgNVw",
        "outputId": "72c8e256-9e99-4a25-bc67-2af3c35bda6a"
      },
      "source": [
        "i=1\r\n",
        "while i<6:\r\n",
        "  i+=1\r\n",
        "  if i==3:\r\n",
        "    continue\r\n",
        "  print(i)"
      ],
      "execution_count": 109,
      "outputs": [
        {
          "output_type": "stream",
          "text": [
            "2\n",
            "4\n",
            "5\n",
            "6\n"
          ],
          "name": "stdout"
        }
      ]
    },
    {
      "cell_type": "code",
      "metadata": {
        "colab": {
          "base_uri": "https://localhost:8080/"
        },
        "id": "-Bjw3vopg-lC",
        "outputId": "b0817921-b041-4a5f-ead6-4bae71a98990"
      },
      "source": [
        "n=int(input(\"enter the n value:\"))              \r\n",
        "i,sum=1,0\r\n",
        "while i<=n:\r\n",
        "  sum=sum+i\r\n",
        "  i+=1\r\n",
        "print(sum)"
      ],
      "execution_count": 119,
      "outputs": [
        {
          "output_type": "stream",
          "text": [
            "enter the n value:5\n",
            "15\n"
          ],
          "name": "stdout"
        }
      ]
    },
    {
      "cell_type": "code",
      "metadata": {
        "colab": {
          "base_uri": "https://localhost:8080/"
        },
        "id": "kuDKbBrokF0X",
        "outputId": "f3877f83-0292-43b9-b233-862604335d71"
      },
      "source": [
        "n=int(input(\"enter the n value:\"))\r\n",
        "sum=0\r\n",
        "while n>=0:\r\n",
        "  sum+=n\r\n",
        "  n-=1\r\n",
        "print(sum)"
      ],
      "execution_count": 125,
      "outputs": [
        {
          "output_type": "stream",
          "text": [
            "enter the n value:5\n",
            "15\n"
          ],
          "name": "stdout"
        }
      ]
    },
    {
      "cell_type": "markdown",
      "metadata": {
        "id": "xugW0EU-lfoo"
      },
      "source": [
        "#loops"
      ]
    },
    {
      "cell_type": "code",
      "metadata": {
        "colab": {
          "base_uri": "https://localhost:8080/"
        },
        "id": "UxJfdEPGlh6B",
        "outputId": "8e4c494d-d95b-484c-ce7a-6500d1778abf"
      },
      "source": [
        "fruits=[\"apple\",\"bannana\",\"cherry\"]\r\n",
        "for x in fruits:\r\n",
        "  print(x)"
      ],
      "execution_count": 130,
      "outputs": [
        {
          "output_type": "stream",
          "text": [
            "apple\n",
            "bannana\n",
            "cherry\n"
          ],
          "name": "stdout"
        }
      ]
    },
    {
      "cell_type": "code",
      "metadata": {
        "colab": {
          "base_uri": "https://localhost:8080/"
        },
        "id": "3U-s-7g7mPgR",
        "outputId": "f260f718-599f-466e-c421-647154a94ff2"
      },
      "source": [
        "fruits=[\"apple\",\"bannana\",\"cherry\"]\r\n",
        "for x in \"apple\":\r\n",
        "  print(x)"
      ],
      "execution_count": 131,
      "outputs": [
        {
          "output_type": "stream",
          "text": [
            "a\n",
            "p\n",
            "p\n",
            "l\n",
            "e\n"
          ],
          "name": "stdout"
        }
      ]
    },
    {
      "cell_type": "code",
      "metadata": {
        "colab": {
          "base_uri": "https://localhost:8080/"
        },
        "id": "yFgvSV_1mmgg",
        "outputId": "5910a278-c7c7-4376-c07c-0cc1f19dc197"
      },
      "source": [
        "for x in range(6):\r\n",
        "  print(x)"
      ],
      "execution_count": 136,
      "outputs": [
        {
          "output_type": "stream",
          "text": [
            "0\n",
            "1\n",
            "2\n",
            "3\n",
            "4\n",
            "5\n"
          ],
          "name": "stdout"
        }
      ]
    },
    {
      "cell_type": "code",
      "metadata": {
        "colab": {
          "base_uri": "https://localhost:8080/"
        },
        "id": "7db44JtunLBo",
        "outputId": "74640259-c0cd-40be-c1dd-1a1f9eba97d1"
      },
      "source": [
        "for x in range(2,30,6):\r\n",
        " print(x)"
      ],
      "execution_count": 140,
      "outputs": [
        {
          "output_type": "stream",
          "text": [
            "2\n",
            "8\n",
            "14\n",
            "20\n",
            "26\n"
          ],
          "name": "stdout"
        }
      ]
    },
    {
      "cell_type": "code",
      "metadata": {
        "colab": {
          "base_uri": "https://localhost:8080/"
        },
        "id": "pXJ7N4_Ln_I5",
        "outputId": "c593e439-0b1b-4ca9-ce93-5c42c934a504"
      },
      "source": [
        "adj=[\"red\",\"big\",\"tasty\"]\r\n",
        "fruits=[\"apple\",\"bannana\",\"cherry\"]\r\n",
        "for x in adj:\r\n",
        "  for y in fruits:\r\n",
        "    print(x,y)"
      ],
      "execution_count": 141,
      "outputs": [
        {
          "output_type": "stream",
          "text": [
            "red apple\n",
            "red bannana\n",
            "red cherry\n",
            "big apple\n",
            "big bannana\n",
            "big cherry\n",
            "tasty apple\n",
            "tasty bannana\n",
            "tasty cherry\n"
          ],
          "name": "stdout"
        }
      ]
    },
    {
      "cell_type": "code",
      "metadata": {
        "colab": {
          "base_uri": "https://localhost:8080/"
        },
        "id": "iE0UIIFJpKCw",
        "outputId": "7fbc98ae-533c-4165-be08-0169db5bf2e9"
      },
      "source": [
        "n=int(input())\r\n",
        "odd=[]\r\n",
        "even=[]\r\n",
        "for i in range(1,n):\r\n",
        "  if i%2==1:\r\n",
        "    odd.append(i)\r\n",
        "  else:\r\n",
        "    even.append(i)\r\n",
        "print(odd)\r\n",
        "print(even)"
      ],
      "execution_count": 158,
      "outputs": [
        {
          "output_type": "stream",
          "text": [
            "10\n",
            "[1, 3, 5, 7, 9]\n",
            "[2, 4, 6, 8]\n"
          ],
          "name": "stdout"
        }
      ]
    },
    {
      "cell_type": "code",
      "metadata": {
        "colab": {
          "base_uri": "https://localhost:8080/"
        },
        "id": "RG-ChRxduyDG",
        "outputId": "e2e4b343-8f09-4016-c3e5-c1ea498a1b54"
      },
      "source": [
        "n=int(input())\r\n",
        "odd=[]\r\n",
        "even=[]\r\n",
        "for i in range(1,n+1,2):\r\n",
        "  odd.append(i)\r\n",
        "  even.append(i+1)\r\n",
        "print(odd)\r\n",
        "print(even)"
      ],
      "execution_count": 159,
      "outputs": [
        {
          "output_type": "stream",
          "text": [
            "10\n",
            "[1, 3, 5, 7, 9]\n",
            "[2, 4, 6, 8, 10]\n"
          ],
          "name": "stdout"
        }
      ]
    },
    {
      "cell_type": "code",
      "metadata": {
        "colab": {
          "base_uri": "https://localhost:8080/"
        },
        "id": "XZgFaQHaA2ox",
        "outputId": "01ca178b-bf74-41d6-d31a-100ac1db08d5"
      },
      "source": [
        "for x in range(1,21):\r\n",
        " print(x)"
      ],
      "execution_count": 162,
      "outputs": [
        {
          "output_type": "stream",
          "text": [
            "1\n",
            "2\n",
            "3\n",
            "4\n",
            "5\n",
            "6\n",
            "7\n",
            "8\n",
            "9\n",
            "10\n",
            "11\n",
            "12\n",
            "13\n",
            "14\n",
            "15\n",
            "16\n",
            "17\n",
            "18\n",
            "19\n",
            "20\n"
          ],
          "name": "stdout"
        }
      ]
    },
    {
      "cell_type": "code",
      "metadata": {
        "colab": {
          "base_uri": "https://localhost:8080/",
          "height": 135
        },
        "id": "UJSt2ZUlBTYx",
        "outputId": "9618eb0c-1ad3-4709-d3f6-105e0506e1d8"
      },
      "source": [
        "lst=[i for i in range{1,11}]\r\n",
        "  print(lst)"
      ],
      "execution_count": 175,
      "outputs": [
        {
          "output_type": "error",
          "ename": "SyntaxError",
          "evalue": "ignored",
          "traceback": [
            "\u001b[0;36m  File \u001b[0;32m\"<ipython-input-175-565e214147a6>\"\u001b[0;36m, line \u001b[0;32m1\u001b[0m\n\u001b[0;31m    lst=[i for i in range{1,11}]\u001b[0m\n\u001b[0m                         ^\u001b[0m\n\u001b[0;31mSyntaxError\u001b[0m\u001b[0;31m:\u001b[0m invalid syntax\n"
          ]
        }
      ]
    },
    {
      "cell_type": "code",
      "metadata": {
        "colab": {
          "base_uri": "https://localhost:8080/"
        },
        "id": "LIvnUpXHDZxq",
        "outputId": "513fe093-3b73-439c-ac06-642eab5edf9b"
      },
      "source": [
        "for x in range(0,10,2):\r\n",
        " print(x)"
      ],
      "execution_count": 179,
      "outputs": [
        {
          "output_type": "stream",
          "text": [
            "0\n",
            "2\n",
            "4\n",
            "6\n",
            "8\n"
          ],
          "name": "stdout"
        }
      ]
    },
    {
      "cell_type": "code",
      "metadata": {
        "colab": {
          "base_uri": "https://localhost:8080/"
        },
        "id": "19TTiUXYEN1J",
        "outputId": "79acbcf3-b046-44b6-9797-4bb1357075d4"
      },
      "source": [
        "evenlist=[i for i in range(1,21) if i%2==0]\r\n",
        "print(evenlist)"
      ],
      "execution_count": 180,
      "outputs": [
        {
          "output_type": "stream",
          "text": [
            "[2, 4, 6, 8, 10, 12, 14, 16, 18, 20]\n"
          ],
          "name": "stdout"
        }
      ]
    },
    {
      "cell_type": "code",
      "metadata": {
        "colab": {
          "base_uri": "https://localhost:8080/"
        },
        "id": "HSQwJ53mE5j7",
        "outputId": "7e460a8f-bff9-4ab9-9042-3065c3e8f741"
      },
      "source": [
        "oddlist=[i*i for i in range(1,21) if i%2==1]\r\n",
        "print(oddlist)"
      ],
      "execution_count": 182,
      "outputs": [
        {
          "output_type": "stream",
          "text": [
            "[1, 9, 25, 49, 81, 121, 169, 225, 289, 361]\n"
          ],
          "name": "stdout"
        }
      ]
    },
    {
      "cell_type": "code",
      "metadata": {
        "colab": {
          "base_uri": "https://localhost:8080/"
        },
        "id": "IMYgElQlFTiZ",
        "outputId": "6d2f4270-aad4-4589-bf5d-f57e59196974"
      },
      "source": [
        "if 0:\r\n",
        "  (print(\"pawan\"))\r\n",
        "else:\r\n",
        "  print(\"acharya\")"
      ],
      "execution_count": 189,
      "outputs": [
        {
          "output_type": "stream",
          "text": [
            "acharya\n"
          ],
          "name": "stdout"
        }
      ]
    },
    {
      "cell_type": "code",
      "metadata": {
        "colab": {
          "base_uri": "https://localhost:8080/"
        },
        "id": "84oED4GoFwjj",
        "outputId": "51dda13e-40a0-457e-b107-9b1f81f85fe2"
      },
      "source": [
        "if -1:\r\n",
        "  (print(\"pawan\"))\r\n",
        "else:\r\n",
        "  print(\"acharya\")"
      ],
      "execution_count": 188,
      "outputs": [
        {
          "output_type": "stream",
          "text": [
            "pawan\n"
          ],
          "name": "stdout"
        }
      ]
    },
    {
      "cell_type": "code",
      "metadata": {
        "colab": {
          "base_uri": "https://localhost:8080/"
        },
        "id": "Bqb1Pe8iGgrx",
        "outputId": "9b2b8a7e-9b3a-4f4c-9050-91ae38a6a593"
      },
      "source": [
        "a=[1,1,2,4,5]\r\n",
        "print(all(a))"
      ],
      "execution_count": 191,
      "outputs": [
        {
          "output_type": "stream",
          "text": [
            "True\n"
          ],
          "name": "stdout"
        }
      ]
    },
    {
      "cell_type": "code",
      "metadata": {
        "colab": {
          "base_uri": "https://localhost:8080/"
        },
        "id": "Hg2bXqWnG6Tp",
        "outputId": "a5ccd70f-3e02-4b25-f922-543cc2ac1dbc"
      },
      "source": [
        "a=[1,1,2,4,0]\r\n",
        "print(all(a))"
      ],
      "execution_count": 192,
      "outputs": [
        {
          "output_type": "stream",
          "text": [
            "False\n"
          ],
          "name": "stdout"
        }
      ]
    },
    {
      "cell_type": "code",
      "metadata": {
        "colab": {
          "base_uri": "https://localhost:8080/"
        },
        "id": "Zx_v6B7xHPsq",
        "outputId": "3e37a875-34db-48a6-e742-679b3f196d63"
      },
      "source": [
        "primelists=[i for i in range(2,21) if all(i%j!=0 for j in range(2,i))]\r\n",
        "print(primelists)"
      ],
      "execution_count": 209,
      "outputs": [
        {
          "output_type": "stream",
          "text": [
            "[2, 3, 5, 7, 11, 13, 17, 19]\n"
          ],
          "name": "stdout"
        }
      ]
    },
    {
      "cell_type": "code",
      "metadata": {
        "colab": {
          "base_uri": "https://localhost:8080/"
        },
        "id": "VXrQwPocMzBM",
        "outputId": "1b26a812-d022-43bf-eb2e-64eea3744f39"
      },
      "source": [
        "print(all([8%j!=0 for j in range(2,8)]))"
      ],
      "execution_count": 217,
      "outputs": [
        {
          "output_type": "stream",
          "text": [
            "False\n"
          ],
          "name": "stdout"
        }
      ]
    },
    {
      "cell_type": "code",
      "metadata": {
        "colab": {
          "base_uri": "https://localhost:8080/"
        },
        "id": "TYD3Z0ClObTh",
        "outputId": "97aff866-d27b-4d77-f61e-5f681df478b7"
      },
      "source": [
        "lst=[(i*i) for i in range(1,26) if i*i<=26]\r\n",
        "print(lst)"
      ],
      "execution_count": 223,
      "outputs": [
        {
          "output_type": "stream",
          "text": [
            "[1, 4, 9, 16, 25]\n"
          ],
          "name": "stdout"
        }
      ]
    },
    {
      "cell_type": "markdown",
      "metadata": {
        "id": "DTGTrYd8VHKr"
      },
      "source": [
        "#functions"
      ]
    },
    {
      "cell_type": "code",
      "metadata": {
        "id": "n07ZgihwVJJi"
      },
      "source": [
        ""
      ],
      "execution_count": null,
      "outputs": []
    },
    {
      "cell_type": "code",
      "metadata": {
        "colab": {
          "base_uri": "https://localhost:8080/"
        },
        "id": "HfuidcjPX4zK",
        "outputId": "fee35527-e93f-47a0-9463-d54d4e4dc0ac"
      },
      "source": [
        "def my_function(a,b,c=3):\r\n",
        " print(a,b,c)\r\n",
        "my_function(\"jack\",\"jill\")"
      ],
      "execution_count": 232,
      "outputs": [
        {
          "output_type": "stream",
          "text": [
            "jack jill 3\n"
          ],
          "name": "stdout"
        }
      ]
    },
    {
      "cell_type": "code",
      "metadata": {
        "id": "5O0zcONAc2pE"
      },
      "source": [
        ""
      ],
      "execution_count": null,
      "outputs": []
    },
    {
      "cell_type": "code",
      "metadata": {
        "colab": {
          "base_uri": "https://localhost:8080/"
        },
        "id": "Ybec9c6FcqSj",
        "outputId": "2275c88a-bdf0-4af3-988e-5eaf64c5c60f"
      },
      "source": [
        "lists=[\"pawan\",\"shreays\",\"rakshith\"]\r\n",
        "print(lists)\r\n"
      ],
      "execution_count": 234,
      "outputs": [
        {
          "output_type": "stream",
          "text": [
            "['pawan', 'shreays', 'rakshith']\n"
          ],
          "name": "stdout"
        }
      ]
    },
    {
      "cell_type": "code",
      "metadata": {
        "colab": {
          "base_uri": "https://localhost:8080/"
        },
        "id": "jssO-sR5dGlq",
        "outputId": "d3737dd0-7a1d-4e60-eae2-b06c2eedb9ea"
      },
      "source": [
        "x=int(input())\r\n",
        "print(x)"
      ],
      "execution_count": 236,
      "outputs": [
        {
          "output_type": "stream",
          "text": [
            "5\n",
            "5\n"
          ],
          "name": "stdout"
        }
      ]
    },
    {
      "cell_type": "code",
      "metadata": {
        "colab": {
          "base_uri": "https://localhost:8080/"
        },
        "id": "YsfGwdIadQGb",
        "outputId": "787a25e5-ac62-4910-9a19-980b6c9e1e9d"
      },
      "source": [
        "x=int(input())\r\n",
        "y=int(input())\r\n",
        "print(\"pawan \")\r\n",
        "print(str(x+y))"
      ],
      "execution_count": 245,
      "outputs": [
        {
          "output_type": "stream",
          "text": [
            "5\n",
            "6\n",
            "pawan \n",
            "11\n"
          ],
          "name": "stdout"
        }
      ]
    },
    {
      "cell_type": "code",
      "metadata": {
        "id": "51wxgnLJe9yD"
      },
      "source": [
        "def marks1(name):\r\n",
        "  phy=int(input(\"Enter \" + name +\"physics marks\"))\r\n",
        "  chem=int(input(\"Enter \" + name +\"chemistry marks\"))\r\n",
        "  return phy + chem\r\n",
        "  st=[\"jack\",\"jill\",\"abhi\",\"rohan\"]\r\n",
        "  for i in st:\r\n",
        "    print(marks(i))"
      ],
      "execution_count": 254,
      "outputs": []
    }
  ]
}