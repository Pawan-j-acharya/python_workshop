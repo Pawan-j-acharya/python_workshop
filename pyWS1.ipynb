{
  "nbformat": 4,
  "nbformat_minor": 0,
  "metadata": {
    "colab": {
      "name": "pyWS1.ipynb",
      "provenance": [],
      "collapsed_sections": [],
      "authorship_tag": "ABX9TyOw+HFUGmyjN8QRCrgeKPXq",
      "include_colab_link": true
    },
    "kernelspec": {
      "name": "python3",
      "display_name": "Python 3"
    }
  },
  "cells": [
    {
      "cell_type": "markdown",
      "metadata": {
        "id": "view-in-github",
        "colab_type": "text"
      },
      "source": [
        "<a href=\"https://colab.research.google.com/github/Pawan-j-acharya/python_workshop/blob/main/pyWS1.ipynb\" target=\"_parent\"><img src=\"https://colab.research.google.com/assets/colab-badge.svg\" alt=\"Open In Colab\"/></a>"
      ]
    },
    {
      "cell_type": "markdown",
      "metadata": {
        "id": "VceVUb92r5ob"
      },
      "source": [
        ""
      ]
    },
    {
      "cell_type": "code",
      "metadata": {
        "colab": {
          "base_uri": "https://localhost:8080/"
        },
        "id": "AYCR0k0eqPI7",
        "outputId": "c16baada-c98e-4ec2-991d-78a520807397"
      },
      "source": [
        "x,y,z=\"program\",\"bannana\",\"cherry\"\r\n",
        "print(\"python is a \"+x)\r\n",
        "print(y)\r\n",
        "print(z)"
      ],
      "execution_count": 34,
      "outputs": [
        {
          "output_type": "stream",
          "text": [
            "python is a program\n",
            "bannana\n",
            "cherry\n"
          ],
          "name": "stdout"
        }
      ]
    },
    {
      "cell_type": "code",
      "metadata": {
        "id": "M-TwsC8S3jc5"
      },
      "source": [
        ""
      ],
      "execution_count": null,
      "outputs": []
    },
    {
      "cell_type": "markdown",
      "metadata": {
        "id": "25e2yYoX2Fu2"
      },
      "source": [
        "#Exercise 1\r\n"
      ]
    },
    {
      "cell_type": "code",
      "metadata": {
        "colab": {
          "base_uri": "https://localhost:8080/"
        },
        "id": "-h9vi9fWzwT_",
        "outputId": "52280d8c-8d0a-41ec-d32e-a7c9cea6bba0"
      },
      "source": [
        "carname=\"volvo\"\r\n",
        "print(carname)"
      ],
      "execution_count": 37,
      "outputs": [
        {
          "output_type": "stream",
          "text": [
            "volvo\n"
          ],
          "name": "stdout"
        }
      ]
    },
    {
      "cell_type": "markdown",
      "metadata": {
        "id": "hNSl-FIs2MsP"
      },
      "source": [
        "#Exercise 2"
      ]
    },
    {
      "cell_type": "code",
      "metadata": {
        "colab": {
          "base_uri": "https://localhost:8080/"
        },
        "id": "KICdYjgA1pMm",
        "outputId": "0a719fdc-fb77-4e27-fa34-88466b70dbbc"
      },
      "source": [
        "x=50\r\n",
        "print(x)\r\n",
        "print(type(x))"
      ],
      "execution_count": 39,
      "outputs": [
        {
          "output_type": "stream",
          "text": [
            "50\n",
            "<class 'int'>\n"
          ],
          "name": "stdout"
        }
      ]
    },
    {
      "cell_type": "markdown",
      "metadata": {
        "id": "XGkgun2_20xw"
      },
      "source": [
        "#Exercise 3"
      ]
    },
    {
      "cell_type": "code",
      "metadata": {
        "colab": {
          "base_uri": "https://localhost:8080/"
        },
        "id": "gsas-IQr29Hf",
        "outputId": "4fbb0fff-ee96-4e77-f07f-cf3081651172"
      },
      "source": [
        "x,y=5,10\r\n",
        "print(x+y)"
      ],
      "execution_count": 43,
      "outputs": [
        {
          "output_type": "stream",
          "text": [
            "15\n"
          ],
          "name": "stdout"
        }
      ]
    },
    {
      "cell_type": "markdown",
      "metadata": {
        "id": "Vk14wEJN3dhf"
      },
      "source": [
        "#Exercise 4"
      ]
    },
    {
      "cell_type": "code",
      "metadata": {
        "colab": {
          "base_uri": "https://localhost:8080/"
        },
        "id": "0JPpfyjK3f2n",
        "outputId": "80f4ba0c-a868-4528-dd92-a99c7f488501"
      },
      "source": [
        "x,y,z=11,17,x+y\r\n",
        "print(z)"
      ],
      "execution_count": 48,
      "outputs": [
        {
          "output_type": "stream",
          "text": [
            "28\n"
          ],
          "name": "stdout"
        }
      ]
    },
    {
      "cell_type": "code",
      "metadata": {
        "id": "OTwTTSY2EFiG"
      },
      "source": [
        "x1=\"Hello World\"\r\n",
        "x2=5\r\n",
        "x3=5.6\r\n",
        "x4=[\"apple\",\"bannana\",\"cherry\"]\r\n",
        "x5=(\"apple\",\"bannana\",\"cherry\")\r\n",
        "x6=range(6)\r\n",
        "x7={\"name\":\"jhonwick\",\"age\":36}\r\n",
        "x8={\"apple\",\"bannana\",\"cherry\"}\r\n",
        "x9=True"
      ],
      "execution_count": 93,
      "outputs": []
    },
    {
      "cell_type": "code",
      "metadata": {
        "colab": {
          "base_uri": "https://localhost:8080/"
        },
        "id": "EJZMO_Y-FtGO",
        "outputId": "b10c5c5e-1004-421e-b44b-6ab720dac3d8"
      },
      "source": [
        "print(type(x1))\r\n",
        "print(type(x2))\r\n",
        "print(type(x3))\r\n",
        "print(type(x4))\r\n",
        "print(type(x5))\r\n",
        "print(type(x6))\r\n",
        "print(type(x7))\r\n",
        "print(type(x8))\r\n",
        "print(type(x9))"
      ],
      "execution_count": 54,
      "outputs": [
        {
          "output_type": "stream",
          "text": [
            "<class 'str'>\n",
            "<class 'int'>\n",
            "<class 'float'>\n",
            "<class 'list'>\n",
            "<class 'tuple'>\n",
            "<class 'range'>\n",
            "<class 'dict'>\n",
            "<class 'set'>\n",
            "<class 'bool'>\n"
          ],
          "name": "stdout"
        }
      ]
    },
    {
      "cell_type": "code",
      "metadata": {
        "colab": {
          "base_uri": "https://localhost:8080/"
        },
        "id": "s6-kESaIHZ2d",
        "outputId": "06d44c0a-cbf3-4f5c-880e-7b43e444710a"
      },
      "source": [
        "d= 3+2j\r\n",
        "print(type(d))\r\n",
        "print(x)"
      ],
      "execution_count": 69,
      "outputs": [
        {
          "output_type": "stream",
          "text": [
            "<class 'complex'>\n",
            "-3255522\n"
          ],
          "name": "stdout"
        }
      ]
    },
    {
      "cell_type": "code",
      "metadata": {
        "colab": {
          "base_uri": "https://localhost:8080/"
        },
        "id": "htgczr2pJ3p2",
        "outputId": "af97938a-8613-40bc-cb9b-5e90c57f1654"
      },
      "source": [
        "x=range(9)\r\n",
        "for n in x:\r\n",
        " print(n)"
      ],
      "execution_count": 74,
      "outputs": [
        {
          "output_type": "stream",
          "text": [
            "0\n",
            "1\n",
            "2\n",
            "3\n",
            "4\n",
            "5\n",
            "6\n",
            "7\n",
            "8\n"
          ],
          "name": "stdout"
        }
      ]
    },
    {
      "cell_type": "code",
      "metadata": {
        "colab": {
          "base_uri": "https://localhost:8080/"
        },
        "id": "lpJhguzLKYvd",
        "outputId": "eb7291d7-1e7a-487e-c315-8faa949e240a"
      },
      "source": [
        "x={1,2,3,4,2}\r\n",
        "print(x)"
      ],
      "execution_count": 84,
      "outputs": [
        {
          "output_type": "stream",
          "text": [
            "{1, 2, 3, 4}\n"
          ],
          "name": "stdout"
        }
      ]
    },
    {
      "cell_type": "code",
      "metadata": {
        "id": "8Kx7GKAGLcFO"
      },
      "source": [
        ""
      ],
      "execution_count": null,
      "outputs": []
    },
    {
      "cell_type": "code",
      "metadata": {
        "colab": {
          "base_uri": "https://localhost:8080/"
        },
        "id": "Z06g2R2iLfgk",
        "outputId": "852896bc-b443-4756-8579-e60881fcaced"
      },
      "source": [
        "\r\n",
        "x=int(input())\r\n",
        "print(bool(x))"
      ],
      "execution_count": 95,
      "outputs": [
        {
          "output_type": "stream",
          "text": [
            "0\n",
            "False\n"
          ],
          "name": "stdout"
        }
      ]
    },
    {
      "cell_type": "code",
      "metadata": {
        "colab": {
          "base_uri": "https://localhost:8080/"
        },
        "id": "dwIih54tNN5W",
        "outputId": "1cb75558-1d70-410d-9057-564c45affb8c"
      },
      "source": [
        "x,y,z=1,2.0,1.j\r\n",
        "a,b,c=float(x),int(y),complex(z)\r\n",
        "print(a)\r\n",
        "print(b)\r\n",
        "print(c)"
      ],
      "execution_count": 100,
      "outputs": [
        {
          "output_type": "stream",
          "text": [
            "1.0\n",
            "2\n",
            "1j\n"
          ],
          "name": "stdout"
        }
      ]
    },
    {
      "cell_type": "code",
      "metadata": {
        "colab": {
          "base_uri": "https://localhost:8080/"
        },
        "id": "LzMS2dVkOfKl",
        "outputId": "94335e0a-dbca-4fca-8cca-c8c3ddddc12b"
      },
      "source": [
        "x=int ()\r\n",
        "print(type(x))"
      ],
      "execution_count": 107,
      "outputs": [
        {
          "output_type": "stream",
          "text": [
            "<class 'int'>\n"
          ],
          "name": "stdout"
        }
      ]
    },
    {
      "cell_type": "markdown",
      "metadata": {
        "id": "agnFITTfPDIZ"
      },
      "source": [
        "#Exersie 5"
      ]
    },
    {
      "cell_type": "code",
      "metadata": {
        "colab": {
          "base_uri": "https://localhost:8080/"
        },
        "id": "PrDyKs_0PHcc",
        "outputId": "784f8ae0-8671-4511-829b-22ce926e727a"
      },
      "source": [
        "x,y='2','3'\r\n",
        "print(\"x+y=\"+ x+y)"
      ],
      "execution_count": 120,
      "outputs": [
        {
          "output_type": "stream",
          "text": [
            "x+y=23\n"
          ],
          "name": "stdout"
        }
      ]
    },
    {
      "cell_type": "code",
      "metadata": {
        "colab": {
          "base_uri": "https://localhost:8080/"
        },
        "id": "6ZggY_utSL4l",
        "outputId": "2424de70-823e-4245-8f7d-e291523c2b6e"
      },
      "source": [
        "name=\"jay smith\"\r\n",
        "print(name[4])\r\n",
        "print(type(name))\r\n",
        "print(len(name))\r\n",
        "print(\"smith\"in name)\r\n",
        "print(\"shashank \"in name)"
      ],
      "execution_count": 136,
      "outputs": [
        {
          "output_type": "stream",
          "text": [
            "s\n",
            "<class 'str'>\n",
            "9\n",
            "True\n",
            "False\n"
          ],
          "name": "stdout"
        }
      ]
    },
    {
      "cell_type": "code",
      "metadata": {
        "colab": {
          "base_uri": "https://localhost:8080/"
        },
        "id": "HSqYba06UPet",
        "outputId": "8e729a65-435a-4dc3-9888-fe8f54ecb7e7"
      },
      "source": [
        "txt=\"UCHIHA ITACHI\"\r\n",
        "print(\"UCHIHA\"in txt)"
      ],
      "execution_count": 154,
      "outputs": [
        {
          "output_type": "stream",
          "text": [
            "True\n"
          ],
          "name": "stdout"
        }
      ]
    },
    {
      "cell_type": "code",
      "metadata": {
        "colab": {
          "base_uri": "https://localhost:8080/"
        },
        "id": "elZd7IG1Uxrk",
        "outputId": "5d277c6a-cf45-4413-9d48-cf7247aba5a7"
      },
      "source": [
        "txt=\"shreyas kun baka des ka!!!\"\r\n",
        "print(txt[0:16])\r\n",
        "print(txt[16:])\r\n",
        "print(txt[-16:-7])"
      ],
      "execution_count": 151,
      "outputs": [
        {
          "output_type": "stream",
          "text": [
            "shreyas kun baka\n",
            " des ka!!!\n",
            "n baka de\n"
          ],
          "name": "stdout"
        }
      ]
    },
    {
      "cell_type": "markdown",
      "metadata": {
        "id": "-Z97Dy56Wydc"
      },
      "source": [
        "#modifing"
      ]
    },
    {
      "cell_type": "code",
      "metadata": {
        "colab": {
          "base_uri": "https://localhost:8080/"
        },
        "id": "2301dCWIWbCE",
        "outputId": "dd7556f1-7403-4cfa-dc2c-718791f1074d"
      },
      "source": [
        "txt=\"UCHIHA ITACHI\"\r\n",
        "print(txt.upper())\r\n",
        "print(txt.lower())"
      ],
      "execution_count": 156,
      "outputs": [
        {
          "output_type": "stream",
          "text": [
            "UCHIHA ITACHI\n",
            "uchiha itachi\n"
          ],
          "name": "stdout"
        }
      ]
    },
    {
      "cell_type": "code",
      "metadata": {
        "colab": {
          "base_uri": "https://localhost:8080/"
        },
        "id": "ekHEvRupW-ds",
        "outputId": "612d12af-d1b8-4a66-8095-8f2a18499963"
      },
      "source": [
        "a=\"domain expansion\"\r\n",
        "b=\": perfect idle transfigurted\"\r\n",
        "print(a+b)\r\n"
      ],
      "execution_count": 162,
      "outputs": [
        {
          "output_type": "stream",
          "text": [
            "domain expansion: perfect idle transfigurted\n"
          ],
          "name": "stdout"
        }
      ]
    },
    {
      "cell_type": "code",
      "metadata": {
        "colab": {
          "base_uri": "https://localhost:8080/"
        },
        "id": "zsJGqzmHYKa0",
        "outputId": "71bfd428-33ab-48a8-c923-47cfe5b5082b"
      },
      "source": [
        "age=19\r\n",
        "txt=\"my name is pawan and my age is {}\"\r\n",
        "print(txt.format(age))"
      ],
      "execution_count": 167,
      "outputs": [
        {
          "output_type": "stream",
          "text": [
            "my name is pawan and my age is 19\n"
          ],
          "name": "stdout"
        }
      ]
    },
    {
      "cell_type": "code",
      "metadata": {
        "colab": {
          "base_uri": "https://localhost:8080/"
        },
        "id": "QRkYp18NY4Cz",
        "outputId": "2223786d-d9ac-4e9e-d93e-ce6cc54b21f9"
      },
      "source": [
        "txt=\"Hello\\nWorld\"\r\n",
        "print(txt)\r\n",
        "txt=\"hello\\tWorld\"\r\n",
        "print(txt)\r\n"
      ],
      "execution_count": 169,
      "outputs": [
        {
          "output_type": "stream",
          "text": [
            "Hello\n",
            "World\n",
            "hello\tWorld\n"
          ],
          "name": "stdout"
        }
      ]
    },
    {
      "cell_type": "code",
      "metadata": {
        "colab": {
          "base_uri": "https://localhost:8080/"
        },
        "id": "vxHecF0nZVY7",
        "outputId": "ad29af99-7834-4ca4-cc4e-c7a8d34b6123"
      },
      "source": [
        "txt=\"pawan j acharya\"\r\n",
        "txt2=\"PAWAN J ACHARYA\"\r\n",
        "print(txt.capitalize())\r\n",
        "print(txt.upper())\r\n",
        "print(txt.isupper())\r\n",
        "print(txt2.lower())\r\n",
        "print(txt.isalpha())"
      ],
      "execution_count": 177,
      "outputs": [
        {
          "output_type": "stream",
          "text": [
            "Pawan j acharya\n",
            "PAWAN J ACHARYA\n",
            "False\n",
            "pawan j acharya\n",
            "False\n"
          ],
          "name": "stdout"
        }
      ]
    },
    {
      "cell_type": "code",
      "metadata": {
        "colab": {
          "base_uri": "https://localhost:8080/"
        },
        "id": "72sLr1vzqWs7",
        "outputId": "6d3e044a-daf4-4ae8-dfb4-599e80cae9b3"
      },
      "source": [
        "name=input(\"enter the name :\")\r\n",
        "print(len(name))\r\n",
        "print(name[0:4])\r\n",
        "print(name.upper())\r\n",
        "name1=\"name{}\"\r\n",
        "txt=\"college\"\r\n",
        "print(name +\" college\")\r\n",
        "print(name1.format(txt))\r\n",
        "print(name.isdigit())\r\n"
      ],
      "execution_count": 205,
      "outputs": [
        {
          "output_type": "stream",
          "text": [
            "enter the name :alvas\n",
            "5\n",
            "alva\n",
            "ALVAS\n",
            "alvas college\n",
            "namecollege\n",
            "False\n"
          ],
          "name": "stdout"
        }
      ]
    },
    {
      "cell_type": "code",
      "metadata": {
        "colab": {
          "base_uri": "https://localhost:8080/"
        },
        "id": "iMpZPP-WwaJn",
        "outputId": "c9e37ad9-276e-4bc8-849b-b50ea00f3ef2"
      },
      "source": [
        "x=5\r\n",
        "y=2\r\n",
        "print(x==y)"
      ],
      "execution_count": 223,
      "outputs": [
        {
          "output_type": "stream",
          "text": [
            "False\n"
          ],
          "name": "stdout"
        }
      ]
    },
    {
      "cell_type": "code",
      "metadata": {
        "colab": {
          "base_uri": "https://localhost:8080/"
        },
        "id": "SBazIecByXlx",
        "outputId": "8f958479-266f-4b89-f1c4-62bfd9491ed7"
      },
      "source": [
        "print(10>5)\r\n",
        "print(100%50)\r\n"
      ],
      "execution_count": 225,
      "outputs": [
        {
          "output_type": "stream",
          "text": [
            "True\n",
            "0\n"
          ],
          "name": "stdout"
        }
      ]
    },
    {
      "cell_type": "code",
      "metadata": {
        "colab": {
          "base_uri": "https://localhost:8080/"
        },
        "id": "bo3GXH-AyuY5",
        "outputId": "87ee4f4a-ea22-4bee-b121-e58b9ff7d475"
      },
      "source": [
        "x,y=int(input(\"enter the first value:\")),int(input(\"enter the second value:\"))\r\n",
        "print(x+y)\r\n",
        "print(x-y)\r\n",
        "print(x/y)\r\n",
        "print(x*y)\r\n",
        "print(x%y)"
      ],
      "execution_count": 232,
      "outputs": [
        {
          "output_type": "stream",
          "text": [
            "enter the first value:5\n",
            "enter the second value:3\n",
            "8\n",
            "2\n",
            "1.6666666666666667\n",
            "15\n",
            "2\n"
          ],
          "name": "stdout"
        }
      ]
    },
    {
      "cell_type": "code",
      "metadata": {
        "colab": {
          "base_uri": "https://localhost:8080/"
        },
        "id": "WUyCQ7f05SKZ",
        "outputId": "b01e2aa4-796d-4fb0-b8c2-67c02ed5e604"
      },
      "source": [
        "L=[\"ece\",\"cse\",\"ise\",\"civil\",\"mech\"]\r\n",
        "print(L)\r\n",
        "print(len(L))\r\n",
        "print(L[2:5])\r\n",
        "print(L[:5])\r\n",
        "print(L[3:])"
      ],
      "execution_count": 250,
      "outputs": [
        {
          "output_type": "stream",
          "text": [
            "['ece', 'cse', 'ise', 'civil', 'mech']\n",
            "5\n",
            "['ise', 'civil', 'mech']\n",
            "['ece', 'cse', 'ise', 'civil', 'mech']\n",
            "['civil', 'mech']\n"
          ],
          "name": "stdout"
        }
      ]
    },
    {
      "cell_type": "code",
      "metadata": {
        "colab": {
          "base_uri": "https://localhost:8080/"
        },
        "id": "6oiZPV7P8Uco",
        "outputId": "c4e748df-8e7e-43c8-b01e-40916e1ee0d2"
      },
      "source": [
        "thislist=[\"apple\",\"bannana\",\"cherry\"]\r\n",
        "tropical=[\"mango\",\"pineapple\",\"papaya\"]\r\n",
        "newlist=thislist+tropical\r\n",
        "print(len(thislist))\r\n",
        "print(len(tropical))\r\n",
        "thislist.append(\"orange\")\r\n",
        "print(thislist)\r\n",
        "print(newlist)\r\n",
        "print(len(thislist))\r\n",
        "thislist.pop(1)\r\n",
        "print(thislist)"
      ],
      "execution_count": 261,
      "outputs": [
        {
          "output_type": "stream",
          "text": [
            "3\n",
            "3\n",
            "['apple', 'bannana', 'cherry', 'orange']\n",
            "['apple', 'bannana', 'cherry', 'mango', 'pineapple', 'papaya']\n",
            "4\n",
            "['apple', 'cherry', 'orange']\n"
          ],
          "name": "stdout"
        }
      ]
    },
    {
      "cell_type": "code",
      "metadata": {
        "colab": {
          "base_uri": "https://localhost:8080/"
        },
        "id": "lmdwbHW9_Npg",
        "outputId": "8b4ea7f3-cfd1-4fd3-c33f-5ad68075267b"
      },
      "source": [
        "lists=[199,35,374,50,3]\r\n",
        "lists.sort()\r\n",
        "print(lists)"
      ],
      "execution_count": 302,
      "outputs": [
        {
          "output_type": "stream",
          "text": [
            "[3, 35, 50, 199, 374]\n"
          ],
          "name": "stdout"
        }
      ]
    },
    {
      "cell_type": "code",
      "metadata": {
        "colab": {
          "base_uri": "https://localhost:8080/"
        },
        "id": "agqwyjc6AWD9",
        "outputId": "d9191de0-b998-4bb0-e9ec-21eb9ba593ae"
      },
      "source": [
        "lists=[199,35,374,50,3]\r\n",
        "lists.sort(reverse = True)\r\n",
        "print(lists)"
      ],
      "execution_count": 301,
      "outputs": [
        {
          "output_type": "stream",
          "text": [
            "[374, 199, 50, 35, 3]\n"
          ],
          "name": "stdout"
        }
      ]
    },
    {
      "cell_type": "code",
      "metadata": {
        "id": "2AM7SIsnAeYq"
      },
      "source": [
        ""
      ],
      "execution_count": null,
      "outputs": []
    },
    {
      "cell_type": "code",
      "metadata": {
        "colab": {
          "base_uri": "https://localhost:8080/"
        },
        "id": "DBZty8PwBBtn",
        "outputId": "40290574-d223-4fb5-cd40-d37751f49e08"
      },
      "source": [
        "nameList=[\"Harsh\",\"prathik\",\"bob\",\"dhruv\"]\r\n",
        "print(nameList[1])"
      ],
      "execution_count": 268,
      "outputs": [
        {
          "output_type": "stream",
          "text": [
            "prathik\n"
          ],
          "name": "stdout"
        }
      ]
    },
    {
      "cell_type": "code",
      "metadata": {
        "colab": {
          "base_uri": "https://localhost:8080/"
        },
        "id": "TWRszUMtBxEI",
        "outputId": "b2246b98-fcff-4880-d413-f8699ccaccd5"
      },
      "source": [
        "animal=[\"cat\",\"dog\",\"fish\",\"goat\"]\r\n",
        "age=[1,2,2,6]\r\n",
        "animal.append(age)\r\n",
        "print(animal)\r\n",
        "animal=[\"cat\",\"dog\",\"fish\",\"goat\"]\r\n",
        "newlist=animal+age\r\n",
        "print(newlist)\r\n"
      ],
      "execution_count": 276,
      "outputs": [
        {
          "output_type": "stream",
          "text": [
            "['cat', 'dog', 'fish', 'goat', [1, 2, 2, 6]]\n",
            "['cat', 'dog', 'fish', 'goat', 1, 2, 2, 6]\n"
          ],
          "name": "stdout"
        }
      ]
    },
    {
      "cell_type": "code",
      "metadata": {
        "colab": {
          "base_uri": "https://localhost:8080/"
        },
        "id": "-yKCYWVVDbRh",
        "outputId": "79cc1cd7-00af-49f5-bf10-245c9ee2bd28"
      },
      "source": [
        "age=[1,2,3,6]\r\n",
        "age.append(9)\r\n",
        "print(age)\r\n",
        "age.pop(2)\r\n",
        "print(age)\r\n",
        "age.count(3)"
      ],
      "execution_count": 283,
      "outputs": [
        {
          "output_type": "stream",
          "text": [
            "[1, 2, 3, 6, 9]\n",
            "[1, 2, 6, 9]\n"
          ],
          "name": "stdout"
        },
        {
          "output_type": "execute_result",
          "data": {
            "text/plain": [
              "0"
            ]
          },
          "metadata": {
            "tags": []
          },
          "execution_count": 283
        }
      ]
    },
    {
      "cell_type": "markdown",
      "metadata": {
        "id": "qAOZNjBwFnXf"
      },
      "source": [
        "#python tuple"
      ]
    },
    {
      "cell_type": "code",
      "metadata": {
        "colab": {
          "base_uri": "https://localhost:8080/"
        },
        "id": "v-aiUAVIFrOv",
        "outputId": "007a359f-83ac-4bcb-cf62-6456818fa0ab"
      },
      "source": [
        "thistuple=(\"apple\",\"bannana\",\"cherry\")\r\n",
        "print(type(thistuple))\r\n",
        "print(thistuple)"
      ],
      "execution_count": 305,
      "outputs": [
        {
          "output_type": "stream",
          "text": [
            "<class 'tuple'>\n",
            "('apple', 'bannana', 'cherry')\n"
          ],
          "name": "stdout"
        }
      ]
    }
  ]
}